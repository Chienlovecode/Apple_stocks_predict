{
  "nbformat": 4,
  "nbformat_minor": 0,
  "metadata": {
    "colab": {
      "provenance": [],
      "include_colab_link": true
    },
    "kernelspec": {
      "name": "python3",
      "display_name": "Python 3"
    },
    "language_info": {
      "name": "python"
    }
  },
  "cells": [
    {
      "cell_type": "markdown",
      "metadata": {
        "id": "view-in-github",
        "colab_type": "text"
      },
      "source": [
        "<a href=\"https://colab.research.google.com/github/hoangnguyenbao079/Apple_stocks_predict/blob/main/Apple_Predict.ipynb\" target=\"_parent\"><img src=\"https://colab.research.google.com/assets/colab-badge.svg\" alt=\"Open In Colab\"/></a>"
      ]
    },
    {
      "cell_type": "code",
      "source": [
        "import pandas as pd\n",
        "import datetime as dt\n",
        "from datetime import date\n",
        "import matplotlib.pyplot as plt\n",
        "import yfinance as yf\n",
        "import numpy as np\n",
        "import tensorflow as tf\n",
        "from pyspark.sql import SparkSession\n",
        "from datetime import date\n",
        "import time\n",
        "\n"
      ],
      "metadata": {
        "id": "nYU-eha1aeCk"
      },
      "execution_count": 1,
      "outputs": []
    },
    {
      "cell_type": "markdown",
      "source": [
        "#Define start day to fetch the dataset from the yahoo finance library"
      ],
      "metadata": {
        "id": "lwqlKmxsa0cC"
      }
    },
    {
      "cell_type": "code",
      "execution_count": 2,
      "metadata": {
        "id": "fAJ_vBxjIsjw"
      },
      "outputs": [],
      "source": [
        "# Bước 1: Tạo SparkSession\n",
        "spark = SparkSession.builder.appName(\"StockData\").getOrCreate()\n",
        "\n",
        "# Đặt ngày bắt đầu và ngày kết thúc\n",
        "START = \"2015-01-01\"\n",
        "TODAY = date.today().strftime(\"%Y-%m-%d\")\n"
      ]
    },
    {
      "cell_type": "code",
      "source": [
        "# Bước 2: Định nghĩa hàm tải dữ liệu từ Yahoo Finance\n",
        "def load_data(ticker, retries=3, delay=10):\n",
        "    for attempt in range(retries):\n",
        "        try:\n",
        "            data = yf.download(ticker, START, TODAY)\n",
        "            if data.empty:\n",
        "                raise ValueError(\"Empty dataset received.\")\n",
        "            data.reset_index(inplace=True)\n",
        "            return data\n",
        "        except Exception as e:\n",
        "            print(f\"Lỗi tải dữ liệu: {e}. Thử lại sau {delay} giây... ({attempt+1}/{retries})\")\n",
        "            time.sleep(delay)\n",
        "    print(\"Thất bại sau nhiều lần thử. Vui lòng thử lại sau.\")\n",
        "    return None"
      ],
      "metadata": {
        "id": "rt_yg0bYcKJg"
      },
      "execution_count": 3,
      "outputs": []
    },
    {
      "cell_type": "code",
      "source": [
        "# Bước 3: Tải dữ liệu cổ phiếu AAPL\n",
        "data = load_data('AAPL')\n",
        "if data is not None:\n",
        "    # Chuyển dữ liệu từ Pandas DataFrame sang PySpark DataFrame\n",
        "    df_spark = spark.createDataFrame(data)\n",
        "\n"
      ],
      "metadata": {
        "id": "OxFjUTdAd9Qw",
        "outputId": "1c76709e-e8b2-4cfd-9b58-3e52f6afb820",
        "colab": {
          "base_uri": "https://localhost:8080/"
        }
      },
      "execution_count": 5,
      "outputs": [
        {
          "output_type": "stream",
          "name": "stderr",
          "text": [
            "\r[*********************100%***********************]  1 of 1 completed\n",
            "ERROR:yfinance:\n",
            "1 Failed download:\n",
            "ERROR:yfinance:['AAPL']: YFRateLimitError('Too Many Requests. Rate limited. Try after a while.')\n"
          ]
        },
        {
          "output_type": "stream",
          "name": "stdout",
          "text": [
            "Lỗi tải dữ liệu: Empty dataset received.. Thử lại sau 10 giây... (1/3)\n"
          ]
        },
        {
          "output_type": "stream",
          "name": "stderr",
          "text": [
            "\r[*********************100%***********************]  1 of 1 completed\n",
            "ERROR:yfinance:\n",
            "1 Failed download:\n",
            "ERROR:yfinance:['AAPL']: YFRateLimitError('Too Many Requests. Rate limited. Try after a while.')\n"
          ]
        },
        {
          "output_type": "stream",
          "name": "stdout",
          "text": [
            "Lỗi tải dữ liệu: Empty dataset received.. Thử lại sau 10 giây... (2/3)\n"
          ]
        },
        {
          "output_type": "stream",
          "name": "stderr",
          "text": [
            "\r[*********************100%***********************]  1 of 1 completed\n",
            "ERROR:yfinance:\n",
            "1 Failed download:\n",
            "ERROR:yfinance:['AAPL']: YFRateLimitError('Too Many Requests. Rate limited. Try after a while.')\n"
          ]
        },
        {
          "output_type": "stream",
          "name": "stdout",
          "text": [
            "Lỗi tải dữ liệu: Empty dataset received.. Thử lại sau 10 giây... (3/3)\n",
            "Thất bại sau nhiều lần thử. Vui lòng thử lại sau.\n"
          ]
        }
      ]
    },
    {
      "cell_type": "code",
      "source": [],
      "metadata": {
        "id": "KybluF0Eci3o"
      },
      "execution_count": null,
      "outputs": []
    }
  ]
}